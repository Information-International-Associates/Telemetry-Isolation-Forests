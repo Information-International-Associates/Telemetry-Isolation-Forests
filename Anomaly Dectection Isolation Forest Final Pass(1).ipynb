{
 "cells": [
  {
   "cell_type": "code",
   "execution_count": 14,
   "metadata": {},
   "outputs": [],
   "source": [
    "import pickle\n",
    "import pandas as pd\n",
    "import numpy as np\n",
    "import csv\n",
    "import matplotlib as mp\n",
    "import matplotlib.pyplot as plt\n",
    "from numpy.lib import recfunctions\n",
    "import datetime\n",
    "import numpy.lib.recfunctions as recfn\n",
    "import boto3\n",
    "import sys\n",
    "from IPython.display import clear_output\n",
    "from scipy import stats, fftpack\n",
    "from scipy.stats import kurtosis, skew, iqr, t\n",
    "import pickle\n",
    "from scipy import io as sio\n",
    "s3 = boto3.resource('s3')\n",
    "from io import BytesIO\n",
    "from sklearn.preprocessing import MinMaxScaler, StandardScaler\n",
    "from numpy import genfromtxt\n",
    "from scipy.stats import multivariate_normal\n",
    "from sklearn.metrics import f1_score\n",
    "from sklearn.ensemble import IsolationForest\n",
    "import seaborn as sns\n",
    "\n",
    "FLGHTLEN = .75 # Filter out anything that is less than this flight time\n",
    "IN_BKT = 'iia-vault-telemetry-practice-unzipped'\n",
    "SMPL_SIZES= [.01,.01,.1,.1]\n",
    "RANDSEED= 42 # Urban Data Science Myth- Apparently gives best results!!\n",
    "# NUMOFVARS= 30 # Number of variables from the mat files to be selected\n",
    "PRINTATEVERY= 2500 # Key Values\n",
    "rng = np.random.RandomState(42)"
   ]
  },
  {
   "cell_type": "markdown",
   "metadata": {},
   "source": [
    "# Introduction\n",
    "\n",
    "In this notebook we read back features created and use sci-kit learn to build a Isolation Forest Anomaly detection model.\n",
    "\n",
    "Anomaly detection falls in the area of unsupervised learning. In unsupervised learning you don't have a label/ number that you look to predict. Usually the data helps instances, in our a flight take off stand out based on the features selected and the base data signatures.\n",
    "\n",
    "In the case of unsupervised learning the machine learning model output needs to be validated with ground truth\n",
    "\n",
    "## Pickle -> Python Dictionary -> Dataframe\n",
    "\n",
    "The following function converts the pickle file to usable python pandas dataframe"
   ]
  },
  {
   "cell_type": "code",
   "execution_count": 15,
   "metadata": {},
   "outputs": [],
   "source": [
    "def pikl_dict_df(pkl_file):\n",
    "    with open(pkl_file, 'rb') as f:\n",
    "        dd = pickle.load(f)\n",
    "    rows=[]\n",
    "    for k1, v1 in dd.items():\n",
    "        for k2,v2 in v1.items():\n",
    "            val_series=[]\n",
    "            for k3,v3 in v2.items():\n",
    "                for k4,v4 in v3.items():\n",
    "                    rows.append([k1, k3+'_'+k4, v4])\n",
    "    df= pd.DataFrame(rows, columns= ['Flight', 'Metrics', 'Values']).\\\n",
    "    pivot(index= 'Flight', columns='Metrics', values='Values')\n",
    "    for col in df.columns:\n",
    "        if 'GESD' in col:\n",
    "            new_cols= [col+'_'+'1', col+'_'+'2', col+'_'+'3']\n",
    "            s=pd.DataFrame(df[col].values.tolist(), columns= new_cols, index= df.index)\n",
    "            df.drop(columns=col, inplace= True)\n",
    "            df= pd.concat([df,s], ignore_index= False, axis=1)\n",
    "    df.dropna(axis=1, inplace= True)\n",
    "    return(df)"
   ]
  },
  {
   "cell_type": "code",
   "execution_count": 16,
   "metadata": {},
   "outputs": [],
   "source": [
    "train= pikl_dict_df('flight_stats_prt2_1pct.pickle')"
   ]
  },
  {
   "cell_type": "code",
   "execution_count": 17,
   "metadata": {},
   "outputs": [],
   "source": [
    "test= pikl_dict_df('flight_stats_prt1_1pct.pickle')"
   ]
  },
  {
   "cell_type": "code",
   "execution_count": 18,
   "metadata": {},
   "outputs": [
    {
     "data": {
      "text/plain": [
       "72"
      ]
     },
     "execution_count": 18,
     "metadata": {},
     "output_type": "execute_result"
    }
   ],
   "source": [
    "len(train.isnull().sum().sort_values()>0)"
   ]
  },
  {
   "cell_type": "markdown",
   "metadata": {},
   "source": [
    "# Features\n",
    "\n",
    "The choice of features depends on optimal performance of a model. The following features are calculated in the earlier exercise\n",
    "\n",
    "***To Do:***\n",
    "Open a new cell and type any one of the feature set to see the contents"
   ]
  },
  {
   "cell_type": "code",
   "execution_count": 19,
   "metadata": {},
   "outputs": [],
   "source": [
    "f1= train.columns.tolist()\n",
    "f2= [c for c in train.columns if 'ALTR'in c]\n",
    "f3= [c for c in train.columns if 'sin' not in c]\n",
    "f3= [c for c in f3 if 'cos' not in c]\n",
    "f4= [c for c in train.columns if 'GESD' not in c]\n",
    "f5= [c for c in train.columns if 'WS'in c and 'GESD' not in c]\n",
    "f6= [c for c in train.columns if 'ALTR' in c and 'GESD' not in c]\n",
    "f6= f6+[c for c in train.columns if 'WS' in c and 'GESD' not in c]\n",
    "f7= ['ALTR_mean','WS_mean']"
   ]
  },
  {
   "cell_type": "markdown",
   "metadata": {},
   "source": [
    "# Isolation Forest\n",
    "\n",
    "A detailed description is available  <a href=\"https://blog.paperspace.com/anomaly-detection-isolation-forest/\" target=\"_blank\"> here</a>\n",
    "\n",
    "Sci-kit learn page <a href=\"https://scikit-learn.org/stable/modules/generated/sklearn.ensemble.IsolationForest.html\" target=\"_blank\"> here</a>\n",
    "\n",
    "\n",
    "*Outliers are less frequent than regular observations and are different from them in terms of values (they lie further away from the regular observations in the feature space). That is why by using random partitioning they should be identified using shorter average path length, i.e., the number of branches of a tree an observation must pass in going from the root to the terminal node), with much fewer split.*\n",
    "\n",
    "## HyperParameters\n",
    "\n",
    "* Number of estimators: n_estimators refers to the number of base estimators or trees\n",
    "* Max samples: max_samples is the number of samples to be drawn to train each base estimator.\n",
    "* Contamination: This is a parameter that the algorithm is quite sensitive to; it refers to the expected proportion of outliers in the data set. \n",
    "* Max features: All the base estimators are not trained with all the features available in the dataset."
   ]
  },
  {
   "cell_type": "code",
   "execution_count": 20,
   "metadata": {},
   "outputs": [],
   "source": [
    "def isolationforest_harness(train, features=f6, num_estimators=50, c= float(0.01), random_state=rng):\n",
    "    model=IsolationForest(n_estimators= num_estimators, max_samples='auto', \\\n",
    "                          contamination= c,max_features=len(features)-1)\n",
    "    model.fit(train.loc[:,features].values)\n",
    "    train['scores']=model.decision_function(train.loc[:,features])\n",
    "    train['anomaly']=model.predict(train.loc[:,features])\n",
    "    anomaly= train.loc[train['anomaly']==-1]\n",
    "    anomaly_index=list(anomaly.index)\n",
    "    rownum=[]\n",
    "    for a in anomaly_index:\n",
    "        rownum.append(np.where(train.index==a)[0][0])\n",
    "    return(anomaly_index, rownum, train)"
   ]
  },
  {
   "cell_type": "markdown",
   "metadata": {},
   "source": [
    "***TO Do:***\n",
    "Let's do the following:\n",
    "- Change the c value to 0.001\n",
    "- Use a different feature set"
   ]
  },
  {
   "cell_type": "code",
   "execution_count": 21,
   "metadata": {},
   "outputs": [],
   "source": [
    "anomaly_index, rownum, df= isolationforest_harness(train,f6)"
   ]
  },
  {
   "cell_type": "code",
   "execution_count": 22,
   "metadata": {},
   "outputs": [],
   "source": [
    "xtrms= df.loc[df.scores== df.scores.min()].index.tolist()+df.loc[df.scores== df.scores.max()].index.tolist()"
   ]
  },
  {
   "cell_type": "code",
   "execution_count": 41,
   "metadata": {},
   "outputs": [],
   "source": [
    "df['orig_scores']=df.scores.apply(lambda x: -1*x+0.5)"
   ]
  },
  {
   "cell_type": "code",
   "execution_count": 43,
   "metadata": {},
   "outputs": [
    {
     "data": {
      "text/plain": [
       "Text(0, 0.5, 'Original Scores')"
      ]
     },
     "execution_count": 43,
     "metadata": {},
     "output_type": "execute_result"
    },
    {
     "data": {
      "image/png": "[encoded data removed]",
      "text/plain": [
       "<Figure size 720x504 with 1 Axes>"
      ]
     },
     "metadata": {
      "needs_background": "light"
     },
     "output_type": "display_data"
    }
   ],
   "source": [
    "plt.figure(figsize=(10,7))\n",
    "plt.title('Anomaly Flag vs. Score', fontsize=15)\n",
    "sns.boxplot(x=\"anomaly\", y=\"orig_scores\", data=df)\n",
    "plt.xlabel('Anomaly',fontsize=12)\n",
    "plt.ylabel('Original Scores',fontsize=12)"
   ]
  },
  {
   "cell_type": "code",
   "execution_count": 24,
   "metadata": {},
   "outputs": [
    {
     "data": {
      "text/plain": [
       "Text(0, 0.5, 'Scores')"
      ]
     },
     "execution_count": 24,
     "metadata": {},
     "output_type": "execute_result"
    },
    {
     "data": {
      "image/png": "[encoded data removed]",
      "text/plain": [
       "<Figure size 720x504 with 1 Axes>"
      ]
     },
     "metadata": {
      "needs_background": "light"
     },
     "output_type": "display_data"
    }
   ],
   "source": [
    "plt.figure(figsize=(10,7))\n",
    "plt.title('Anomaly Flag vs. Score', fontsize=15)\n",
    "sns.boxplot(x=\"anomaly\", y=\"scores\", data=df)\n",
    "plt.xlabel('Anomaly',fontsize=12)\n",
    "plt.ylabel('Scores',fontsize=12)"
   ]
  },
  {
   "cell_type": "code",
   "execution_count": 25,
   "metadata": {},
   "outputs": [
    {
     "data": {
      "text/plain": [
       "[3, 347, 434, 479, 481, 484]"
      ]
     },
     "execution_count": 25,
     "metadata": {},
     "output_type": "execute_result"
    }
   ],
   "source": [
    "rownum"
   ]
  },
  {
   "cell_type": "code",
   "execution_count": 26,
   "metadata": {},
   "outputs": [
    {
     "data": {
      "text/plain": [
       " 1    566\n",
       "-1      6\n",
       "Name: anomaly, dtype: int64"
      ]
     },
     "execution_count": 26,
     "metadata": {},
     "output_type": "execute_result"
    }
   ],
   "source": [
    "train['anomaly'].value_counts()"
   ]
  },
  {
   "cell_type": "code",
   "execution_count": 27,
   "metadata": {},
   "outputs": [
    {
     "data": {
      "text/html": [
       "<div>\n",
       "<style scoped>\n",
       "    .dataframe tbody tr th:only-of-type {\n",
       "        vertical-align: middle;\n",
       "    }\n",
       "\n",
       "    .dataframe tbody tr th {\n",
       "        vertical-align: top;\n",
       "    }\n",
       "\n",
       "    .dataframe thead th {\n",
       "        text-align: right;\n",
       "    }\n",
       "</style>\n",
       "<table border=\"1\" class=\"dataframe\">\n",
       "  <thead>\n",
       "    <tr style=\"text-align: right;\">\n",
       "      <th></th>\n",
       "      <th>ALTR_iqr</th>\n",
       "      <th>ALTR_kurt</th>\n",
       "      <th>ALTR_mean</th>\n",
       "      <th>ALTR_skew</th>\n",
       "      <th>ALTR_uniques</th>\n",
       "      <th>ALTR_variance</th>\n",
       "      <th>AOA1_cos_iqr</th>\n",
       "      <th>AOA1_cos_kurt</th>\n",
       "      <th>AOA1_cos_mean</th>\n",
       "      <th>AOA1_cos_skew</th>\n",
       "      <th>...</th>\n",
       "      <th>ROLL_sin_uniques</th>\n",
       "      <th>ROLL_sin_variance</th>\n",
       "      <th>WS_iqr</th>\n",
       "      <th>WS_kurt</th>\n",
       "      <th>WS_mean</th>\n",
       "      <th>WS_skew</th>\n",
       "      <th>WS_uniques</th>\n",
       "      <th>WS_variance</th>\n",
       "      <th>scores</th>\n",
       "      <th>anomaly</th>\n",
       "    </tr>\n",
       "    <tr>\n",
       "      <th>Flight</th>\n",
       "      <th></th>\n",
       "      <th></th>\n",
       "      <th></th>\n",
       "      <th></th>\n",
       "      <th></th>\n",
       "      <th></th>\n",
       "      <th></th>\n",
       "      <th></th>\n",
       "      <th></th>\n",
       "      <th></th>\n",
       "      <th></th>\n",
       "      <th></th>\n",
       "      <th></th>\n",
       "      <th></th>\n",
       "      <th></th>\n",
       "      <th></th>\n",
       "      <th></th>\n",
       "      <th></th>\n",
       "      <th></th>\n",
       "      <th></th>\n",
       "      <th></th>\n",
       "    </tr>\n",
       "  </thead>\n",
       "  <tbody>\n",
       "    <tr>\n",
       "      <th>Flight 652/1/652200106201414</th>\n",
       "      <td>128</td>\n",
       "      <td>28.5583</td>\n",
       "      <td>10.5918</td>\n",
       "      <td>3.42105</td>\n",
       "      <td>88</td>\n",
       "      <td>62341</td>\n",
       "      <td>0.0133221</td>\n",
       "      <td>-0.69794</td>\n",
       "      <td>0.991808</td>\n",
       "      <td>-0.620851</td>\n",
       "      <td>...</td>\n",
       "      <td>105</td>\n",
       "      <td>3.71225e-05</td>\n",
       "      <td>2.98828</td>\n",
       "      <td>21.3504</td>\n",
       "      <td>96.4486</td>\n",
       "      <td>-4.68641</td>\n",
       "      <td>45</td>\n",
       "      <td>247.736</td>\n",
       "      <td>-0.006531</td>\n",
       "      <td>-1</td>\n",
       "    </tr>\n",
       "    <tr>\n",
       "      <th>Flight 661/8/661201007181133</th>\n",
       "      <td>96</td>\n",
       "      <td>29.5819</td>\n",
       "      <td>96.8846</td>\n",
       "      <td>5.31148</td>\n",
       "      <td>55</td>\n",
       "      <td>322871</td>\n",
       "      <td>4.94133e-05</td>\n",
       "      <td>27.0152</td>\n",
       "      <td>0.999575</td>\n",
       "      <td>-4.8157</td>\n",
       "      <td>...</td>\n",
       "      <td>101</td>\n",
       "      <td>7.80095e-05</td>\n",
       "      <td>9.96094</td>\n",
       "      <td>7.02033</td>\n",
       "      <td>88.7194</td>\n",
       "      <td>-2.87485</td>\n",
       "      <td>44</td>\n",
       "      <td>531.048</td>\n",
       "      <td>-0.014632</td>\n",
       "      <td>-1</td>\n",
       "    </tr>\n",
       "    <tr>\n",
       "      <th>Flight 664/1/664200106051425</th>\n",
       "      <td>0</td>\n",
       "      <td>-3</td>\n",
       "      <td>-32</td>\n",
       "      <td>0</td>\n",
       "      <td>1</td>\n",
       "      <td>0</td>\n",
       "      <td>0</td>\n",
       "      <td>-3</td>\n",
       "      <td>0.997825</td>\n",
       "      <td>0</td>\n",
       "      <td>...</td>\n",
       "      <td>1</td>\n",
       "      <td>0</td>\n",
       "      <td>0</td>\n",
       "      <td>-3</td>\n",
       "      <td>0</td>\n",
       "      <td>0</td>\n",
       "      <td>1</td>\n",
       "      <td>0</td>\n",
       "      <td>-0.007611</td>\n",
       "      <td>-1</td>\n",
       "    </tr>\n",
       "    <tr>\n",
       "      <th>Flight 665/4/665200205061836</th>\n",
       "      <td>48</td>\n",
       "      <td>164.396</td>\n",
       "      <td>-3.33653</td>\n",
       "      <td>11.5696</td>\n",
       "      <td>39</td>\n",
       "      <td>6586.7</td>\n",
       "      <td>0.00112917</td>\n",
       "      <td>111.556</td>\n",
       "      <td>0.999372</td>\n",
       "      <td>-7.84275</td>\n",
       "      <td>...</td>\n",
       "      <td>167</td>\n",
       "      <td>2.86018e-05</td>\n",
       "      <td>0</td>\n",
       "      <td>60.5425</td>\n",
       "      <td>97.2172</td>\n",
       "      <td>-7.42293</td>\n",
       "      <td>49</td>\n",
       "      <td>108.019</td>\n",
       "      <td>-0.039388</td>\n",
       "      <td>-1</td>\n",
       "    </tr>\n",
       "    <tr>\n",
       "      <th>Flight 665/4/665200205201517</th>\n",
       "      <td>48</td>\n",
       "      <td>32.2162</td>\n",
       "      <td>32.3596</td>\n",
       "      <td>5.69791</td>\n",
       "      <td>34</td>\n",
       "      <td>58084.1</td>\n",
       "      <td>0.000104964</td>\n",
       "      <td>47.7732</td>\n",
       "      <td>0.998783</td>\n",
       "      <td>-6.49872</td>\n",
       "      <td>...</td>\n",
       "      <td>156</td>\n",
       "      <td>8.8253e-05</td>\n",
       "      <td>18.9258</td>\n",
       "      <td>5.1186</td>\n",
       "      <td>84.474</td>\n",
       "      <td>-2.41575</td>\n",
       "      <td>53</td>\n",
       "      <td>620.717</td>\n",
       "      <td>-0.009583</td>\n",
       "      <td>-1</td>\n",
       "    </tr>\n",
       "    <tr>\n",
       "      <th>Flight 665/4/665200207101438</th>\n",
       "      <td>128</td>\n",
       "      <td>2.2855</td>\n",
       "      <td>9.31844</td>\n",
       "      <td>-0.825515</td>\n",
       "      <td>336</td>\n",
       "      <td>1.22015e+06</td>\n",
       "      <td>0.000846791</td>\n",
       "      <td>113.763</td>\n",
       "      <td>0.998913</td>\n",
       "      <td>-6.28152</td>\n",
       "      <td>...</td>\n",
       "      <td>656</td>\n",
       "      <td>0.00943709</td>\n",
       "      <td>20.918</td>\n",
       "      <td>-1.52511</td>\n",
       "      <td>12.3151</td>\n",
       "      <td>-0.195734</td>\n",
       "      <td>33</td>\n",
       "      <td>93.7445</td>\n",
       "      <td>-0.106533</td>\n",
       "      <td>-1</td>\n",
       "    </tr>\n",
       "  </tbody>\n",
       "</table>\n",
       "<p>6 rows × 74 columns</p>\n",
       "</div>"
      ],
      "text/plain": [
       "                             ALTR_iqr ALTR_kurt ALTR_mean ALTR_skew  \\\n",
       "Flight                                                                \n",
       "Flight 652/1/652200106201414      128   28.5583   10.5918   3.42105   \n",
       "Flight 661/8/661201007181133       96   29.5819   96.8846   5.31148   \n",
       "Flight 664/1/664200106051425        0        -3       -32         0   \n",
       "Flight 665/4/665200205061836       48   164.396  -3.33653   11.5696   \n",
       "Flight 665/4/665200205201517       48   32.2162   32.3596   5.69791   \n",
       "Flight 665/4/665200207101438      128    2.2855   9.31844 -0.825515   \n",
       "\n",
       "                             ALTR_uniques ALTR_variance AOA1_cos_iqr  \\\n",
       "Flight                                                                 \n",
       "Flight 652/1/652200106201414           88         62341    0.0133221   \n",
       "Flight 661/8/661201007181133           55        322871  4.94133e-05   \n",
       "Flight 664/1/664200106051425            1             0            0   \n",
       "Flight 665/4/665200205061836           39        6586.7   0.00112917   \n",
       "Flight 665/4/665200205201517           34       58084.1  0.000104964   \n",
       "Flight 665/4/665200207101438          336   1.22015e+06  0.000846791   \n",
       "\n",
       "                             AOA1_cos_kurt AOA1_cos_mean AOA1_cos_skew  ...  \\\n",
       "Flight                                                                  ...   \n",
       "Flight 652/1/652200106201414      -0.69794      0.991808     -0.620851  ...   \n",
       "Flight 661/8/661201007181133       27.0152      0.999575       -4.8157  ...   \n",
       "Flight 664/1/664200106051425            -3      0.997825             0  ...   \n",
       "Flight 665/4/665200205061836       111.556      0.999372      -7.84275  ...   \n",
       "Flight 665/4/665200205201517       47.7732      0.998783      -6.49872  ...   \n",
       "Flight 665/4/665200207101438       113.763      0.998913      -6.28152  ...   \n",
       "\n",
       "                             ROLL_sin_uniques ROLL_sin_variance   WS_iqr  \\\n",
       "Flight                                                                     \n",
       "Flight 652/1/652200106201414              105       3.71225e-05  2.98828   \n",
       "Flight 661/8/661201007181133              101       7.80095e-05  9.96094   \n",
       "Flight 664/1/664200106051425                1                 0        0   \n",
       "Flight 665/4/665200205061836              167       2.86018e-05        0   \n",
       "Flight 665/4/665200205201517              156        8.8253e-05  18.9258   \n",
       "Flight 665/4/665200207101438              656        0.00943709   20.918   \n",
       "\n",
       "                              WS_kurt  WS_mean   WS_skew WS_uniques  \\\n",
       "Flight                                                                \n",
       "Flight 652/1/652200106201414  21.3504  96.4486  -4.68641         45   \n",
       "Flight 661/8/661201007181133  7.02033  88.7194  -2.87485         44   \n",
       "Flight 664/1/664200106051425       -3        0         0          1   \n",
       "Flight 665/4/665200205061836  60.5425  97.2172  -7.42293         49   \n",
       "Flight 665/4/665200205201517   5.1186   84.474  -2.41575         53   \n",
       "Flight 665/4/665200207101438 -1.52511  12.3151 -0.195734         33   \n",
       "\n",
       "                             WS_variance    scores anomaly  \n",
       "Flight                                                      \n",
       "Flight 652/1/652200106201414     247.736 -0.006531      -1  \n",
       "Flight 661/8/661201007181133     531.048 -0.014632      -1  \n",
       "Flight 664/1/664200106051425           0 -0.007611      -1  \n",
       "Flight 665/4/665200205061836     108.019 -0.039388      -1  \n",
       "Flight 665/4/665200205201517     620.717 -0.009583      -1  \n",
       "Flight 665/4/665200207101438     93.7445 -0.106533      -1  \n",
       "\n",
       "[6 rows x 74 columns]"
      ]
     },
     "execution_count": 27,
     "metadata": {},
     "output_type": "execute_result"
    }
   ],
   "source": [
    "train.loc[train['anomaly']==-1]"
   ]
  },
  {
   "cell_type": "code",
   "execution_count": 47,
   "metadata": {},
   "outputs": [],
   "source": [
    "norms= df[(df['scores'] >= .23) & (df['scores'] <= .235)]\n",
    "# norms= df[(df['scores'] >= df.scores.mean())]\n",
    "norm_idx= norms.index.to_list()"
   ]
  },
  {
   "cell_type": "code",
   "execution_count": 48,
   "metadata": {},
   "outputs": [
    {
     "data": {
      "text/plain": [
       "list"
      ]
     },
     "execution_count": 48,
     "metadata": {},
     "output_type": "execute_result"
    }
   ],
   "source": [
    "type(anomaly_index)"
   ]
  },
  {
   "cell_type": "code",
   "execution_count": 51,
   "metadata": {},
   "outputs": [
    {
     "data": {
      "text/plain": [
       "['Flight 652/1/652200106201414',\n",
       " 'Flight 661/8/661201007181133',\n",
       " 'Flight 664/1/664200106051425',\n",
       " 'Flight 665/4/665200205061836',\n",
       " 'Flight 665/4/665200205201517',\n",
       " 'Flight 665/4/665200207101438']"
      ]
     },
     "execution_count": 51,
     "metadata": {},
     "output_type": "execute_result"
    }
   ],
   "source": [
    "anomaly_index"
   ]
  },
  {
   "cell_type": "markdown",
   "metadata": {},
   "source": [
    "# 2 Dimensional PCA Plot\n",
    "\n",
    "PCA is a dimension reduction technique that projects a data set into a plane such that the 2 dimensional axis aligns with maximum variances "
   ]
  },
  {
   "cell_type": "code",
   "execution_count": 31,
   "metadata": {},
   "outputs": [],
   "source": [
    "from sklearn.decomposition import PCA\n",
    "def pcs_plot(rownum, train, features= f6):\n",
    "    plt.figure(figsize=(15,8))\n",
    "    pca = PCA(2)\n",
    "    pca.fit(train.loc[:,features])\n",
    "    res=pd.DataFrame(pca.transform(train.loc[:,features]))\n",
    "    Z = np.array(res)\n",
    "    plt.title(\"IsolationForest\",fontsize=18)\n",
    "    plt.contourf( Z, cmap=plt.cm.Blues_r)\n",
    "    b1 = plt.scatter(res[0], res[1], c='cyan',s=20,label=\"normal points\", marker='o')\n",
    "    b1 = plt.scatter(res.iloc[rownum,0],res.iloc[rownum,1], c='orange',s=60,  edgecolor=\"red\",label=\"predicted outliers\", marker='*')\n",
    "    plt.legend(loc=\"upper right\",fontsize=12)\n",
    "    plt.xlabel('PCA Component 1',fontsize=12)\n",
    "    plt.ylabel('PCA Component 2',fontsize=12)\n",
    "    plt.grid(which= 'major')\n",
    "    plt.show()"
   ]
  },
  {
   "cell_type": "code",
   "execution_count": 32,
   "metadata": {},
   "outputs": [
    {
     "data": {
      "image/png": "[encoded data removed]",
      "text/plain": [
       "<Figure size 1080x576 with 1 Axes>"
      ]
     },
     "metadata": {
      "needs_background": "light"
     },
     "output_type": "display_data"
    }
   ],
   "source": [
    "pcs_plot(rownum, train)"
   ]
  },
  {
   "cell_type": "markdown",
   "metadata": {},
   "source": [
    "# Investigating Anomalies\n",
    "\n",
    "As discussed investigating ground truth is key for unsupervised learning. \n",
    "The following codes help in understanding some of the underlying challenges. \n",
    "\n",
    "***To Do:***\n",
    "Use Python/ R skills to investigate and isolate challenges with the take offs. Watch out!! So of it might be data issues"
   ]
  },
  {
   "cell_type": "code",
   "execution_count": null,
   "metadata": {},
   "outputs": [],
   "source": []
  }
 ],
 "metadata": {
  "kernelspec": {
   "display_name": "Python 3",
   "language": "python",
   "name": "python3"
  },
  "language_info": {
   "codemirror_mode": {
    "name": "ipython",
    "version": 3
   },
   "file_extension": ".py",
   "mimetype": "text/x-python",
   "name": "python",
   "nbconvert_exporter": "python",
   "pygments_lexer": "ipython3",
   "version": "3.8.5"
  }
 },
 "nbformat": 4,
 "nbformat_minor": 4
}
